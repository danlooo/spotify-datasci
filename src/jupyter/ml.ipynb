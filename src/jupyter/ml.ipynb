{
 "cells": [
  {
   "cell_type": "code",
   "execution_count": 1,
   "metadata": {},
   "outputs": [],
   "source": [
    "import pandas as pd\n",
    "import numpy as np\n",
    "import keras\n",
    "from sklearn.preprocessing import LabelBinarizer\n",
    "import os\n",
    "\n",
    "# go to project root dir\n",
    "os.chdir(\"../..\")"
   ]
  },
  {
   "cell_type": "markdown",
   "metadata": {},
   "source": [
    "Use spotify feature vector for each track to predict the term:"
   ]
  },
  {
   "cell_type": "code",
   "execution_count": 9,
   "metadata": {},
   "outputs": [
    {
     "name": "stdout",
     "output_type": "stream",
     "text": [
      "8 features and 480 samples and 12 classes\n"
     ]
    }
   ],
   "source": [
    "split = pd.read_csv(\"tmp/track_train_test_split.csv\")\n",
    "data = pd.read_csv(\"tmp/track_features.csv\")\n",
    "features = [\"danceability\", \"energy\", \"valence\", \"loudness\", \"speechiness\", \"acousticness\", \"instrumentalness\", \"liveness\"]\n",
    "\n",
    "train_X = data.merge(split).query(\"is_train\").set_index(\"id\")[features]\n",
    "train_Y = data.merge(split).query(\"is_train\").term\n",
    "train_Y = LabelBinarizer().fit_transform(train_Y)\n",
    "\n",
    "test_X = data.merge(split).query(\"not is_train\").set_index(\"id\")[features]\n",
    "test_Y = data.merge(split).query(\"not is_train\").term\n",
    "test_Y = LabelBinarizer().fit_transform(test_Y)\n",
    "\n",
    "\n",
    "print(f\"{len(features)} features and {len(train_Y)} samples and {train_Y.shape[1]} classes\")"
   ]
  },
  {
   "cell_type": "code",
   "execution_count": 15,
   "metadata": {},
   "outputs": [
    {
     "name": "stdout",
     "output_type": "stream",
     "text": [
      "Model: \"sequential_3\"\n",
      "_________________________________________________________________\n",
      " Layer (type)                Output Shape              Param #   \n",
      "=================================================================\n",
      " dense_6 (Dense)             (None, 5)                 45        \n",
      "                                                                 \n",
      " dense_7 (Dense)             (None, 12)                72        \n",
      "                                                                 \n",
      "=================================================================\n",
      "Total params: 117\n",
      "Trainable params: 117\n",
      "Non-trainable params: 0\n",
      "_________________________________________________________________\n",
      "15/15 [==============================] - 0s 1ms/step - loss: 3.0382 - categorical_accuracy: 0.0667 - accuracy: 0.0000e+00\n"
     ]
    },
    {
     "data": {
      "text/plain": [
       "<keras.callbacks.History at 0x7f456c7e8fd0>"
      ]
     },
     "execution_count": 15,
     "metadata": {},
     "output_type": "execute_result"
    }
   ],
   "source": [
    "from keras.layers import Input, Dense\n",
    "\n",
    "model = keras.Sequential(\n",
    "    [\n",
    "        Input(shape=(len(features),)),\n",
    "        Dense(5, activation=\"relu\"),\n",
    "        Dense(train_Y.shape[1], activation=\"softmax\"),\n",
    "    ]\n",
    ")\n",
    "model.build()\n",
    "\n",
    "model.compile(\n",
    "    optimizer='sgd',\n",
    "    loss='categorical_crossentropy',\n",
    "    metrics=[keras.metrics.CategoricalAccuracy(), keras.metrics.Accuracy()]\n",
    ")\n",
    "\n",
    "model.summary()\n",
    "model.fit(train_X, train_Y)"
   ]
  },
  {
   "cell_type": "code",
   "execution_count": 21,
   "metadata": {},
   "outputs": [
    {
     "name": "stdout",
     "output_type": "stream",
     "text": [
      "4/4 [==============================] - 0s 2ms/step - loss: 2.7013 - categorical_accuracy: 0.0167 - accuracy: 0.0000e+00\n"
     ]
    },
    {
     "data": {
      "text/plain": [
       "[2.7013285160064697, 0.01666666753590107, 0.0]"
      ]
     },
     "execution_count": 21,
     "metadata": {},
     "output_type": "execute_result"
    }
   ],
   "source": [
    "model.evaluate(test_X, test_Y)"
   ]
  }
 ],
 "metadata": {
  "kernelspec": {
   "display_name": "Python 3.10.4 ('datasci')",
   "language": "python",
   "name": "python3"
  },
  "language_info": {
   "codemirror_mode": {
    "name": "ipython",
    "version": 3
   },
   "file_extension": ".py",
   "mimetype": "text/x-python",
   "name": "python",
   "nbconvert_exporter": "python",
   "pygments_lexer": "ipython3",
   "version": "3.10.4"
  },
  "orig_nbformat": 4,
  "vscode": {
   "interpreter": {
    "hash": "620dc5f196df6fac56e79ea5677a3020d99a7fdafd22bb599219c5200585ab57"
   }
  }
 },
 "nbformat": 4,
 "nbformat_minor": 2
}
